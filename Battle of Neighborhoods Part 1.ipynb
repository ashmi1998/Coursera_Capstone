{
    "cells": [
        {
            "metadata": {
                "collapsed": true
            },
            "cell_type": "markdown",
            "source": "   # Coursera Capstone Project\n   ## Battle of the Neighborhoods Part-1\n   ### By Ashmitha S S"
        },
        {
            "metadata": {},
            "cell_type": "markdown",
            "source": "## Introduction\n \n This is a capstone project for my IBM Data Science Professional Certificate. In this situation I am creating a hypothetical situation where a client wants to open an Indian Restaurant in Toronto, Canada and the data scientist has to provide the best neighborhood to open one in Toronto.\n Indian food is one of the most popular cuisines in the world and the client is an up and coming chef who puts a spin on Indian food and wants to make it popular growing the business in that neighborhood. With the purpose of a good location where people will frequent Indian food with some edge ,its upto the data scientist to perform analysis and predict a good location the start the restaurant."
        },
        {
            "metadata": {},
            "cell_type": "markdown",
            "source": "## Business Problem\nThe objective of this capstone project is for the data scientist to predict the most suitable loctaion for the client to open an Indian Restaurant in Toronto , Canada where people will want Indian food and is a good market to run the business in. With the help of data analysis ,data visualisation and machine learning we should provide the best neighborhood for the client to open an Indian Restaurant."
        },
        {
            "metadata": {},
            "cell_type": "markdown",
            "source": "## Target Audience\nThe target audience here is the Client, an up and coming chef who wants to open an edgy Indian Restaurant that caters to the palettes of people who are familiar with Indian food and also to those who would be introduced to the food and to grow the business ."
        },
        {
            "metadata": {},
            "cell_type": "markdown",
            "source": "## Data Requirement\nThe data that is required for this project are,\n* The wikipedia data of the list of postal codes of all the neighborhoods in Toronto, Canada. This data provides the information about the names of the neighborhoods along with their postal codes .[https://en.wikipedia.org/w/index.php?title=List_of_postal_codes_of_Canada:_M&oldid=1011037969]\n* The geospatial data that lists the latitudes and the longitudes of the neighborhoods.[https://cocl.us/Geospatial_data]\n* The data of the venues in the neighborhood that helps link the Indian Restaurants in all the neighborhoods which is found using Foursquare API."
        },
        {
            "metadata": {},
            "cell_type": "markdown",
            "source": "## Data Extraction\nThe data is extracted by the means of,\n* Web Scraping of wikipedia data with the help of Beautiful Soup.\n* Extracting geospatial data using the file and the merging the datasets using data analysis and getting required data without duplicate values obtaining a dataset that has the latitudes and the longitudes of the neighborhoods.\n* With the help of the Foursquare API and credentials the venue data is generated to know more about the Indian Restaurants in each neighborhood so it would aid in finding the best neighborhood to open one and the predict it with the help of K-means clustering."
        },
        {
            "metadata": {},
            "cell_type": "code",
            "source": "",
            "execution_count": null,
            "outputs": []
        }
    ],
    "metadata": {
        "kernelspec": {
            "name": "python3",
            "display_name": "Python 3.7",
            "language": "python"
        },
        "language_info": {
            "name": "python",
            "version": "3.7.10",
            "mimetype": "text/x-python",
            "codemirror_mode": {
                "name": "ipython",
                "version": 3
            },
            "pygments_lexer": "ipython3",
            "nbconvert_exporter": "python",
            "file_extension": ".py"
        }
    },
    "nbformat": 4,
    "nbformat_minor": 1
}